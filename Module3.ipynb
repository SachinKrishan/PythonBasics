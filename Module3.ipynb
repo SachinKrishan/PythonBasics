{
 "cells": [
  {
   "cell_type": "markdown",
   "metadata": {},
   "source": [
    "# Python Basics"
   ]
  },
  {
   "cell_type": "markdown",
   "metadata": {},
   "source": [
    "These assignments aim to get you acquainted with Python, which is an important requirement for all the research done at Solarillion Foundation. Apart from teaching you Python, these assignments also aim to make you a better programmer and cultivate better coding practices. \n",
    "\n",
    "Visit these links for more details: <br>\n",
    "PEP8 Practices: https://www.python.org/dev/peps/pep-0008/ <br>\n",
    "Check PEP8: http://pep8online.com <br>\n",
    "Python Reference: https://www.py4e.com/lessons <br>\n",
    "\n",
    "Do use Google efficiently, and refer to StackOverflow for clarifying any programming doubts. If you're still stuck, feel free to ask a TA to help you.\n",
    "\n",
    "Each task in the assignment comprises of at least two cells. There are function definitions wherein you will name the function(s), and write code to solve the problem at hand. You will call the function(s) in the last cell of each task, and check your output.\n",
    "\n",
    "We encourage you to play around and learn as much as possible, and be as creative as you can get. More than anything, have fun doing these assignments. Enjoy!"
   ]
  },
  {
   "cell_type": "markdown",
   "metadata": {},
   "source": [
    "# Module 3\n",
    "Scope: Algorithmic Thinking, Programming"
   ]
  },
  {
   "cell_type": "markdown",
   "metadata": {},
   "source": [
    "## Imports\n",
    "Import any modules here:"
   ]
  },
  {
   "cell_type": "code",
   "execution_count": 127,
   "metadata": {},
   "outputs": [],
   "source": [
    "import random\n",
    "import numpy as np\n",
    "from matplotlib import pyplot as plt"
   ]
  },
  {
   "cell_type": "markdown",
   "metadata": {},
   "source": [
    "## Burger Mania"
   ]
  },
  {
   "cell_type": "code",
   "execution_count": null,
   "metadata": {},
   "outputs": [],
   "source": [
    "\"\"\"\n",
    "Imagine that you are a restaurant's cashier and are trying to keep records for analysing profits.\n",
    "\n",
    "Your restaurant sells 7 different items:\n",
    "    1. Burgers - $4.25\n",
    "    2. Nuggets - $2.50\n",
    "    3. French Fries - $2.00\n",
    "    4. Small Drink - $1.25\n",
    "    5. Medium Drink - $1.50\n",
    "    6. Large Drink - $1.75\n",
    "    7. Salad - $3.75\n",
    "\n",
    "Create a program to randomly generate the orders of each customer as a string of numbers\n",
    "(corresponding to the item) and calculate the cost of the order. For example, if the generated\n",
    "string is 5712335, the program should understand that the customer has ordered 1 burger, 1 \n",
    "portion of nuggets, 2 portions of fries, 2 medium drinks and 1 salad. It should then compute the\n",
    "cost ($17.50). The final cost is calculated after considering discounts for combo offers and\n",
    "adding 18% GST.\n",
    "\n",
    "The combo offers are:\n",
    "A) 1 Burger + 1 Portion of Fries + 1 Drink -> 20% discount\n",
    "B) 1 Burger + 1 Portion of Nuggets + 1 Salad + 1 Drink -> 35% discount\n",
    "\n",
    "The final cost of the 5712335 order is $15.69. The profit gained each day has to be recorded for\n",
    "one month (October) and plotted for analysis.\n",
    "\n",
    "Note:\n",
    "    - There will be at least 20 customers and not more than 50 customers per day. Each customer\n",
    "      orders at least 3 items and not more than 7 items.\n",
    "    - If there is a possibility of availing multiple combo offers in an order, the program\n",
    "      should select the offer with maximum discount.\n",
    "\"\"\""
   ]
  },
  {
   "cell_type": "code",
   "execution_count": 119,
   "metadata": {},
   "outputs": [],
   "source": [
    "# Your function goes here\n",
    "\n",
    "def combo1(order, food, cost):\n",
    "    reduce_cost = 0\n",
    "    for i in range(len(order)):\n",
    "        if(order[i] == food[\"burger\"]):\n",
    "            reduce_cost += cost[\"burger\"]*0.20\n",
    "            for j in range(len(order)):\n",
    "                if(order[j] == food[\"fries\"]):\n",
    "                    reduce_cost += cost[\"fries\"]*0.20\n",
    "                    for k in range(len(order)):\n",
    "                        if(order[k] == food[\"large drink\"]):\n",
    "                            reduce_cost += cost[\"large drink\"]*0.20\n",
    "                            return reduce_cost\n",
    "                        if(order[k] == food[\"medium drink\"]):\n",
    "                            reduce_cost += cost[\"medium drink\"]*0.20\n",
    "                            return reduce_cost\n",
    "                        if(order[k] == food[\"small drink\"]):\n",
    "                            reduce_cost += cost[\"small drink\"]*0.20\n",
    "                            return reduce_cost\n",
    "    return -1\n",
    "                        \n",
    "def combo2(order, food, cost):\n",
    "    reduce_cost = 0\n",
    "    for i in range(len(order)):\n",
    "        if(order[i] == food[\"burger\"]):\n",
    "            reduce_cost += cost[\"burger\"]*0.35\n",
    "            for j in range(len(order)):\n",
    "                if(order[j] == food[\"nuggets\"]):\n",
    "                    reduce_cost += cost[\"nuggets\"]*0.35\n",
    "                    for k in range(len(order)):\n",
    "                        if(order[k] == food[\"large drink\"]):\n",
    "                            reduce_cost += cost[\"large drink\"]*0.35\n",
    "                            for l in range(len(order)):\n",
    "                                if( order[l] == food[\"salad\"]):\n",
    "                                    reduce_cost += cost[\"salad\"]*0.35\n",
    "                                    return reduce_cost\n",
    "                        if(order[k] == food[\"medium drink\"]):\n",
    "                            reduce_cost += cost[\"medium drink\"]*0.35\n",
    "                            for l in range(len(order)):\n",
    "                                if( order[l] == food[\"salad\"]):\n",
    "                                    reduce_cost += cost[\"salad\"]*0.35\n",
    "                                    return reduce_cost\n",
    "                        if(order[k] == food[\"small drink\"]):\n",
    "                            reduce_cost += cost[\"small drink\"]*0.35\n",
    "                            for l in range(len(order)):\n",
    "                                if( order[l] == food[\"salad\"]):\n",
    "                                    reduce_cost += cost[\"salad\"]*0.35\n",
    "                                    return reduce_cost\n",
    "\n",
    "    return -1\n",
    "\n",
    "\n",
    "\n",
    "def remove_combo1(order):\n",
    "    for i in range(len(order)):\n",
    "        if( order[i] == food[\"burger\"]):\n",
    "            order = order[:i] + order[i+1:]\n",
    "            for j in range(len(order)):\n",
    "                if( order[j] == food[\"fries\"]):\n",
    "                    order = order[:j] + order[j+1:]\n",
    "                    for k in range(len(order)):\n",
    "                        if( order[k] == food[\"small drink\"] or order[k] == food[\"medium drink\"] or order[k] == food[\"large drink\"]):\n",
    "                            order = order[:k] + order[k+1:]\n",
    "                            return order\n",
    "\n",
    "                        \n",
    "def remove_combo2(order):\n",
    "    for i in range(len(order)):\n",
    "        if( order[i] == food[\"burger\"]):\n",
    "            order = order[:i] + order[i+1:]\n",
    "            for j in range(len(order)):\n",
    "                if( order[j] == food[\"nuggets\"]):\n",
    "                    order = order[:j] + order[j+1:]\n",
    "                    for k in range(len(order)):\n",
    "                        if( order[k] == food[\"small drink\"] or order[k] == food[\"medium drink\"] or order[k] == food[\"large drink\"]):\n",
    "                            order = order[:k] + order[k+1:]\n",
    "                            for l in range(len(order)):\n",
    "                                if( order[l] == food[\"salad\"]):\n",
    "                                    order = order[:l] + order[l+1:]\n",
    "                                    return order\n",
    "    \n",
    "    "
   ]
  },
  {
   "cell_type": "code",
   "execution_count": 129,
   "metadata": {},
   "outputs": [
    {
     "name": "stdout",
     "output_type": "stream",
     "text": [
      "[518.4035  526.162   576.4595  556.193   308.40775 298.1565  300.959\n",
      " 526.1325  460.95225 482.915   700.69875 564.11375 437.58825 423.90025\n",
      " 666.4345  344.81075 586.637   331.86025 544.865   664.93    323.01025\n",
      " 460.554   602.28675 536.133   327.58275 670.4465  465.0675  489.03625\n",
      " 331.639   522.13525 444.63875]\n"
     ]
    },
    {
     "data": {
      "image/png": "[encoded data removed]",
      "text/plain": [
       "<Figure size 432x288 with 1 Axes>"
      ]
     },
     "metadata": {
      "needs_background": "light"
     },
     "output_type": "display_data"
    }
   ],
   "source": [
    "# Call your function here\n",
    "\n",
    "\"\"\"\n",
    "order = '5712335'\n",
    "print(combo1(order, food))\n",
    "print(remove_combo1(order))\n",
    "order = remove_combo1(order)\n",
    "print(combo1(order, food))\n",
    "\n",
    "1. Burgers - $4.25\n",
    "    2. Nuggets - $2.50\n",
    "    3. French Fries - $2.00\n",
    "    4. Small Drink - $1.25\n",
    "    5. Medium Drink - $1.50\n",
    "    6. Large Drink - $1.75\n",
    "    7. Salad - $3.75\n",
    "    \n",
    "    \n",
    "    \n",
    "for j in range(0,50):\n",
    "    for i in range(0,random.randrange(3, 8)):\n",
    "        order = order + str(random.randrange(1, 8))\n",
    "    print(order)\n",
    "    order = ''\n",
    "     \n",
    "\"\"\"\n",
    "gst = 0.18\n",
    "food = {\"burger\": '1' , \"nuggets\": '2', \"fries\": '3', \"small drink\" : '4', \"medium drink\" : '5', \"large drink\" : '6', \"salad\" : '7'}\n",
    "costnumber = {'1':4.25, '2':2.50, '3':2.00, '4':1.25, '5':1.50, '6':1.75, '7':3.75}\n",
    "costname = {\"burger\":4.25, \"nuggets\":2.50, \"fries\":2.00, \"small drink\":1.25, \"medium drink\":1.50, \"large drink\":1.75, \"salad\":3.75}\n",
    "\n",
    "profit = np.zeros((31))\n",
    "x = np.arange(1,32)\n",
    "\n",
    "for k in range(0,31): #31 days in october\n",
    "    \n",
    "    for j in range(0,random.randrange(20, 52)):  #20 to 50 orders\n",
    "        order = ''\n",
    "        ordercost = 0\n",
    "        \n",
    "        for i in range(0,random.randrange(3, 8)): #3 to 7 items per order\n",
    "            order = order + str(random.randrange(1, 8))\n",
    "        \n",
    "        for i in range(len(order)):\n",
    "            ordercost += costnumber[order[i]]\n",
    "\n",
    "        while( combo2(order, food, costname) != -1 or combo1(order, food, costname) != -1):\n",
    "            \n",
    "            if(combo2(order, food, costname) != -1):\n",
    "                ordercost -= combo2(order, food, costname) #35% discount for combo 1\n",
    "                order = remove_combo2(order)\n",
    "                \n",
    "            if(combo1(order, food, costname) != -1):\n",
    "                ordercost -= combo1(order, food, costname) #20% discount for combo 1\n",
    "                order = remove_combo1(order)\n",
    "                \n",
    "        ordercost = ordercost*1.18\n",
    "        profit[k] += ordercost\n",
    "\n",
    "print(profit)\n",
    "\n",
    "plt.title(\"Profit Analysis\") \n",
    "plt.xlabel(\"Days\") \n",
    "plt.ylabel(\"profit\") \n",
    "plt.plot(x,profit) \n",
    "plt.show()"
   ]
  },
  {
   "cell_type": "markdown",
   "metadata": {},
   "source": [
    "You're done with the Basics of Python! Give yourself a pat on the back.\n",
    "\n",
    "Now, choose an area you want to work on - Machine Learning, Internet of Things or Microgrids - and get started with the assignments. You could also choose to do assignments from multiple areas, it's entirely up to you. Hope you have fun!\n",
    "\n",
    "\n"
   ]
  }
 ],
 "metadata": {
  "kernelspec": {
   "display_name": "Python 3",
   "language": "python",
   "name": "python3"
  },
  "language_info": {
   "codemirror_mode": {
    "name": "ipython",
    "version": 3
   },
   "file_extension": ".py",
   "mimetype": "text/x-python",
   "name": "python",
   "nbconvert_exporter": "python",
   "pygments_lexer": "ipython3",
   "version": "3.7.3"
  }
 },
 "nbformat": 4,
 "nbformat_minor": 2
}
