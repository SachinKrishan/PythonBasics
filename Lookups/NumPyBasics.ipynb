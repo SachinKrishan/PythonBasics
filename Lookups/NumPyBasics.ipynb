{
 "cells": [
  {
   "cell_type": "markdown",
   "metadata": {},
   "source": [
    "# NumPy Basics"
   ]
  },
  {
   "cell_type": "code",
   "execution_count": 4,
   "metadata": {
    "ExecuteTime": {
     "end_time": "2018-05-23T15:35:23.903252Z",
     "start_time": "2018-05-23T15:35:23.605538Z"
    }
   },
   "outputs": [],
   "source": [
    "# Importing\n",
    "import numpy as np"
   ]
  },
  {
   "cell_type": "markdown",
   "metadata": {},
   "source": [
    "## Creation of np.array"
   ]
  },
  {
   "cell_type": "code",
   "execution_count": 5,
   "metadata": {
    "ExecuteTime": {
     "end_time": "2018-05-23T15:35:23.917148Z",
     "start_time": "2018-05-23T15:35:23.906370Z"
    }
   },
   "outputs": [
    {
     "name": "stdout",
     "output_type": "stream",
     "text": [
      "[1 2 3]\n",
      "<class 'numpy.ndarray'>\n",
      "(3,)\n"
     ]
    }
   ],
   "source": [
    "# Creation of np.array from list\n",
    "list_a = [1, 2, 3]\n",
    "a = np.array(list_a)\n",
    "print(a)\n",
    "print(type(a))\n",
    "print(a.shape)"
   ]
  },
  {
   "cell_type": "code",
   "execution_count": 6,
   "metadata": {
    "ExecuteTime": {
     "end_time": "2018-05-23T15:35:23.935386Z",
     "start_time": "2018-05-23T15:35:23.922430Z"
    }
   },
   "outputs": [
    {
     "name": "stdout",
     "output_type": "stream",
     "text": [
      "[[1 0 0]\n",
      " [0 1 0]\n",
      " [0 0 1]]\n",
      "<class 'numpy.ndarray'>\n",
      "(3, 3)\n"
     ]
    }
   ],
   "source": [
    "# 2D array\n",
    "list_b = [[1, 0, 0],\n",
    "          [0, 1, 0],\n",
    "          [0, 0, 1]]\n",
    "b = np.array(list_b)\n",
    "print(b)\n",
    "print(type(b))\n",
    "print(b.shape)"
   ]
  },
  {
   "cell_type": "code",
   "execution_count": 7,
   "metadata": {
    "ExecuteTime": {
     "end_time": "2018-05-23T15:35:23.954285Z",
     "start_time": "2018-05-23T15:35:23.939383Z"
    }
   },
   "outputs": [
    {
     "name": "stdout",
     "output_type": "stream",
     "text": [
      "[[0. 0. 0.]\n",
      " [0. 0. 0.]]\n",
      "[[1. 1. 1. 1.]\n",
      " [1. 1. 1. 1.]\n",
      " [1. 1. 1. 1.]]\n"
     ]
    }
   ],
   "source": [
    "# To create arrays of 0s and 1s\n",
    "zero_array = np.zeros((2,3))\n",
    "one_array = np.ones((3,4))\n",
    "print(zero_array)\n",
    "print(one_array)"
   ]
  },
  {
   "cell_type": "code",
   "execution_count": 19,
   "metadata": {
    "ExecuteTime": {
     "end_time": "2018-05-23T15:35:23.976733Z",
     "start_time": "2018-05-23T15:35:23.958331Z"
    }
   },
   "outputs": [
    {
     "name": "stdout",
     "output_type": "stream",
     "text": [
      "[[9 8 7]\n",
      " [3 8 8]\n",
      " [3 5 1]] \n",
      "\n",
      "[[0.43316915 0.39019461 0.53932419]\n",
      " [0.45744171 0.35404129 0.98187238]\n",
      " [0.99262702 0.92787156 0.85248209]\n",
      " [0.25554108 0.60021572 0.49762327]\n",
      " [0.34820725 0.67143493 0.84471567]\n",
      " [0.70482935 0.52758602 0.72327779]\n",
      " [0.52220925 0.6628683  0.49024165]\n",
      " [0.57561436 0.07551755 0.92749403]] \n",
      "\n",
      "[[0.1201912  0.14552007 0.1414356  0.16633795]\n",
      " [0.21178899 0.72449327 0.21034769 0.21292948]\n",
      " [0.82858444 0.90630802 0.09364073 0.28170537]]\n"
     ]
    }
   ],
   "source": [
    "# Generating random numbers\n",
    "c = np.random.randint(low=1, high=10, size=(3,3))\n",
    "d = np.random.rand(8, 3)\n",
    "e = np.random.random_sample((3, 4))\n",
    "print(c,\"\\n\")\n",
    "print(d,\"\\n\")\n",
    "print(e)"
   ]
  },
  {
   "cell_type": "markdown",
   "metadata": {},
   "source": [
    "## Reshaping arrays"
   ]
  },
  {
   "cell_type": "code",
   "execution_count": 11,
   "metadata": {
    "ExecuteTime": {
     "end_time": "2018-05-23T15:35:23.999537Z",
     "start_time": "2018-05-23T15:35:23.980468Z"
    }
   },
   "outputs": [
    {
     "name": "stdout",
     "output_type": "stream",
     "text": [
      "[[0.22863248 0.66266577 0.59715591 0.52274789]\n",
      " [0.43124092 0.95540874 0.87424437 0.77739404]\n",
      " [0.71470014 0.11297335 0.7163538  0.95874408]\n",
      " [0.62473186 0.32628418 0.19421086 0.73890301]\n",
      " [0.74844871 0.1554475  0.2996873  0.41640107]\n",
      " [0.9044698  0.0677366  0.79470319 0.47309211]] \n",
      "\n",
      "[[0.22863248 0.66266577 0.59715591 0.52274789]\n",
      " [0.43124092 0.95540874 0.87424437 0.77739404]\n",
      " [0.71470014 0.11297335 0.7163538  0.95874408]\n",
      " [0.62473186 0.32628418 0.19421086 0.73890301]\n",
      " [0.74844871 0.1554475  0.2996873  0.41640107]\n",
      " [0.9044698  0.0677366  0.79470319 0.47309211]] \n",
      "\n",
      "[[ True  True  True  True]\n",
      " [ True  True  True  True]\n",
      " [ True  True  True  True]\n",
      " [ True  True  True  True]\n",
      " [ True  True  True  True]\n",
      " [ True  True  True  True]]\n"
     ]
    }
   ],
   "source": [
    "# Reshaping arrays into required shape\n",
    "d_1 = np.reshape(d, newshape=(6, 4))\n",
    "# In order to reshape from 8x3 to 6x4, size can also be mentioned as (6, -1)\n",
    "# The remaining factor (in place of -1) is automatically computed\n",
    "d_2 = d.reshape((6, -1))\n",
    "print(d_1,\"\\n\")\n",
    "print(d_2,\"\\n\")\n",
    "print(d_1 == d_2)"
   ]
  },
  {
   "cell_type": "code",
   "execution_count": 29,
   "metadata": {
    "ExecuteTime": {
     "end_time": "2018-05-23T15:35:24.013137Z",
     "start_time": "2018-05-23T15:35:24.005781Z"
    }
   },
   "outputs": [
    {
     "name": "stdout",
     "output_type": "stream",
     "text": [
      "[[[0.43316915 0.39019461 0.53932419 0.45744171]\n",
      "  [0.35404129 0.98187238 0.99262702 0.92787156]\n",
      "  [0.85248209 0.25554108 0.60021572 0.49762327]]\n",
      "\n",
      " [[0.34820725 0.67143493 0.84471567 0.70482935]\n",
      "  [0.52758602 0.72327779 0.52220925 0.6628683 ]\n",
      "  [0.49024165 0.57561436 0.07551755 0.92749403]]]\n"
     ]
    }
   ],
   "source": [
    "# Task: Try to reshape the array into a 3D array of shape 2x3x4\n",
    "\n",
    "d_3 = np.reshape(d, newshape=(2,3,4))\n",
    "\n",
    "print(d_3)"
   ]
  },
  {
   "cell_type": "markdown",
   "metadata": {},
   "source": [
    "## Deletion of elements"
   ]
  },
  {
   "cell_type": "code",
   "execution_count": 26,
   "metadata": {
    "ExecuteTime": {
     "end_time": "2018-05-23T15:35:24.030355Z",
     "start_time": "2018-05-23T15:35:24.020446Z"
    }
   },
   "outputs": [
    {
     "name": "stdout",
     "output_type": "stream",
     "text": [
      "(8, 2)\n",
      "(7, 3)\n"
     ]
    }
   ],
   "source": [
    "# Deletion of rows/columns\n",
    "d_col_delete = np.delete(d, 1, axis=1)\n",
    "d_row_delete = np.delete(d, 2, axis=0)\n",
    "print(d_col_delete.shape)\n",
    "print(d_row_delete.shape)"
   ]
  },
  {
   "cell_type": "code",
   "execution_count": null,
   "metadata": {
    "ExecuteTime": {
     "end_time": "2018-05-23T15:35:24.043052Z",
     "start_time": "2018-05-23T15:35:24.036309Z"
    }
   },
   "outputs": [],
   "source": [
    "# Learn the concepts of axis properly\n",
    "# Check StackOverflow or NumPy documentation for more details"
   ]
  },
  {
   "cell_type": "code",
   "execution_count": null,
   "metadata": {
    "ExecuteTime": {
     "end_time": "2018-05-23T15:35:24.054460Z",
     "start_time": "2018-05-23T15:35:24.048648Z"
    }
   },
   "outputs": [],
   "source": [
    "# Task: Delete a particular element of array `c`"
   ]
  },
  {
   "cell_type": "markdown",
   "metadata": {},
   "source": [
    "## Merging Rows or Columns"
   ]
  },
  {
   "cell_type": "code",
   "execution_count": null,
   "metadata": {
    "ExecuteTime": {
     "end_time": "2018-05-23T15:35:24.065854Z",
     "start_time": "2018-05-23T15:35:24.059225Z"
    }
   },
   "outputs": [],
   "source": [
    "# Merging Rows/Columns\n",
    "merge_rows = np.vstack((c, d))\n",
    "merge_cols = np.hstack((c, e))"
   ]
  },
  {
   "cell_type": "code",
   "execution_count": null,
   "metadata": {
    "ExecuteTime": {
     "end_time": "2018-05-23T15:35:24.081593Z",
     "start_time": "2018-05-23T15:35:24.071818Z"
    }
   },
   "outputs": [],
   "source": [
    "print(mergeRows)"
   ]
  },
  {
   "cell_type": "code",
   "execution_count": null,
   "metadata": {
    "ExecuteTime": {
     "end_time": "2018-05-23T15:35:24.095793Z",
     "start_time": "2018-05-23T15:35:24.087851Z"
    }
   },
   "outputs": [],
   "source": [
    "print(mergeCols)"
   ]
  },
  {
   "cell_type": "code",
   "execution_count": null,
   "metadata": {
    "ExecuteTime": {
     "end_time": "2018-05-23T15:35:24.106243Z",
     "start_time": "2018-05-23T15:35:24.100140Z"
    }
   },
   "outputs": [],
   "source": [
    "# Task: Try using np.concatenate to perform the above operations"
   ]
  },
  {
   "cell_type": "markdown",
   "metadata": {},
   "source": [
    "# Aggregate Functions"
   ]
  },
  {
   "cell_type": "code",
   "execution_count": null,
   "metadata": {
    "ExecuteTime": {
     "end_time": "2018-05-23T15:35:24.115888Z",
     "start_time": "2018-05-23T15:35:24.110775Z"
    }
   },
   "outputs": [],
   "source": [
    "# Task: Find the row-wise minimum of the array `c`\n",
    "# Task: find the column-wise mean of array `d`\n",
    "# Task: Find the row-wise mean of array `e`\n",
    "# Task: Find the maximum of all values in the array `c`"
   ]
  }
 ],
 "metadata": {
  "anaconda-cloud": {},
  "kernelspec": {
   "display_name": "Python 3",
   "language": "python",
   "name": "python3"
  },
  "language_info": {
   "codemirror_mode": {
    "name": "ipython",
    "version": 3
   },
   "file_extension": ".py",
   "mimetype": "text/x-python",
   "name": "python",
   "nbconvert_exporter": "python",
   "pygments_lexer": "ipython3",
   "version": "3.7.3"
  }
 },
 "nbformat": 4,
 "nbformat_minor": 2
}
